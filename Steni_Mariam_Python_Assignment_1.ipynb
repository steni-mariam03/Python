{
  "nbformat": 4,
  "nbformat_minor": 0,
  "metadata": {
    "colab": {
      "provenance": [],
      "include_colab_link": true
    },
    "kernelspec": {
      "name": "python3",
      "display_name": "Python 3"
    },
    "language_info": {
      "name": "python"
    }
  },
  "cells": [
    {
      "cell_type": "markdown",
      "metadata": {
        "id": "view-in-github",
        "colab_type": "text"
      },
      "source": [
        "<a href=\"https://colab.research.google.com/github/steni-mariam03/Python/blob/main/Steni_Mariam_Python_Assignment_1.ipynb\" target=\"_parent\"><img src=\"https://colab.research.google.com/assets/colab-badge.svg\" alt=\"Open In Colab\"/></a>"
      ]
    },
    {
      "cell_type": "markdown",
      "source": [
        "# **Chapter 1 Exercises**"
      ],
      "metadata": {
        "id": "epVBUTu6j_Dp"
      }
    },
    {
      "cell_type": "markdown",
      "source": [
        "Exercise 1-1 (hello.py)\n",
        "Use any editor (Notepad, vi, Nano, etc) or IDE to write a \"Hello, world\" python script named hello.py.\n",
        "Run the script from the command line.\n",
        "Open the script in your IDE and run it from there.\n",
        "TIP In PyCharm, you can right-click (Ctrl-click on Mac) the script’s tab and select Run"
      ],
      "metadata": {
        "id": "6qYzCn3zkDxS"
      }
    },
    {
      "cell_type": "code",
      "execution_count": null,
      "metadata": {
        "colab": {
          "base_uri": "https://localhost:8080/"
        },
        "id": "FG62hCftUBn3",
        "outputId": "3f5acbb2-bba2-4e00-ebc8-8512eb683017"
      },
      "outputs": [
        {
          "output_type": "stream",
          "name": "stdout",
          "text": [
            "Hello, world\n"
          ]
        }
      ],
      "source": [
        "print(\"Hello, world\")"
      ]
    },
    {
      "cell_type": "markdown",
      "source": [
        "Exercise 1-2 (spam.py)\n",
        "Use PyCharm (or your favorite IDE) to create a script named spam.py that will output \"SPAM SPAM\n",
        "SPAM!\". Run it from the IDE, and then run it from the command line."
      ],
      "metadata": {
        "id": "frqhHMiGkX8A"
      }
    },
    {
      "cell_type": "code",
      "source": [
        "a=\"SPAM \"\n",
        "print(a*3)"
      ],
      "metadata": {
        "colab": {
          "base_uri": "https://localhost:8080/"
        },
        "id": "zRaiTWPpkiae",
        "outputId": "1063a744-9a1b-4d1e-c0cb-561bcb134eba"
      },
      "execution_count": null,
      "outputs": [
        {
          "output_type": "stream",
          "name": "stdout",
          "text": [
            "SPAM SPAM SPAM \n"
          ]
        }
      ]
    },
    {
      "cell_type": "markdown",
      "source": [
        "# **Chapter 2 Exercises**"
      ],
      "metadata": {
        "id": "oTXx6tIGk5zD"
      }
    },
    {
      "cell_type": "markdown",
      "source": [
        "Exercise 2-1 (string_fun.py)\n",
        "Start with the file string_fun.py, which is provided in the top folder of the student files. The variable\n",
        "name is set to \"john jacob jingleheimer schmidt\". Using that variable,\n",
        "• Print name as-is\n",
        "• Print name in upper case\n",
        "• Print name in title case\n",
        "• Print number of occurrences of 'j' in name\n",
        "• Print length of name\n",
        "• Print position (offset) of \"jacob\" in name"
      ],
      "metadata": {
        "id": "ZXhyOd4Fk_in"
      }
    },
    {
      "cell_type": "code",
      "source": [
        "name = \"john jacob jingleheimer schmidt\"\n",
        "print(\"Name :\", name)\n",
        "print(\"Upper case:\", name.upper())\n",
        "print(\"Title case:\", name.title())\n",
        "print(\"Number of 'j's:\", name.count('j'))\n",
        "print(\"Length of name:\", len(name))\n",
        "print(\"Position of 'jacob':\", name.find('jacob'))"
      ],
      "metadata": {
        "colab": {
          "base_uri": "https://localhost:8080/"
        },
        "id": "PwwtzMoMlE9V",
        "outputId": "5c68360c-32a6-4810-a0aa-dddedfad00ee"
      },
      "execution_count": null,
      "outputs": [
        {
          "output_type": "stream",
          "name": "stdout",
          "text": [
            "Name : john jacob jingleheimer schmidt\n",
            "Upper case: JOHN JACOB JINGLEHEIMER SCHMIDT\n",
            "Title case: John Jacob Jingleheimer Schmidt\n",
            "Number of 'j's: 3\n",
            "Length of name: 31\n",
            "Position of 'jacob': 5\n"
          ]
        }
      ]
    },
    {
      "cell_type": "markdown",
      "source": [
        "# **Chapter 3 Exercises**"
      ],
      "metadata": {
        "id": "ZmbvIUKJlXVr"
      }
    },
    {
      "cell_type": "markdown",
      "source": [
        "Exercise 3-1 (c2f.py)\n",
        "Write a Celsius to Fahrenheit converter. Your script should prompt the user for a Celsius temperature,\n",
        "the print out the Fahrenheit equivalent.\n",
        "What the user types:\n",
        "python c2f.py\n",
        "(or run from PyCharm/Spyder etc)\n",
        "The program prompts the user, and the user enters the temperature to be converted.\n",
        "The formula is F = ((9 * C) / 5 ) + 32. Be sure to convert the user-entered value into a float.\n",
        "Test your script with the following values: 100, 0, 37, -40"
      ],
      "metadata": {
        "id": "btLmK9GWlas4"
      }
    },
    {
      "cell_type": "code",
      "source": [
        "celsius = float(input(\"Enter temperature in Celsius: \"))\n",
        "fahrenheit = ((9 * celsius) / 5) + 32\n",
        "print(f\"{celsius} Celsius is equal to {fahrenheit} Fahrenheit.\")"
      ],
      "metadata": {
        "colab": {
          "base_uri": "https://localhost:8080/"
        },
        "id": "9cxlxrVulhag",
        "outputId": "212df41d-32d0-494f-f238-5d43ba2753f9"
      },
      "execution_count": null,
      "outputs": [
        {
          "output_type": "stream",
          "name": "stdout",
          "text": [
            "Enter temperature in Celsius: -40\n",
            "-40.0 Celsius is equal to -40.0 Fahrenheit.\n"
          ]
        }
      ]
    },
    {
      "cell_type": "markdown",
      "source": [
        "Exercise 3-2 (c2f_batch.py)\n",
        "Create another C to F converter. This time, your script should take the Celsius temperature from the\n",
        "command line and output the Fahrenheit value. What you will type:\n",
        "python c2f_batch.py 100\n",
        "(or run from PyCharm/Spyder etc)\n",
        "Test with the values from c2f.py.\n",
        "These two programs should be identical, except for the input."
      ],
      "metadata": {
        "id": "XceKglqRmhE4"
      }
    },
    {
      "cell_type": "code",
      "source": [
        "import sys\n",
        "\n",
        "def c2f_cmd(argv=None):\n",
        "    argv = sys.argv if argv is None else argv\n",
        "    if len(argv) < 2:\n",
        "        print(\"Usage: c2f_batch.py <Celsius>\")\n",
        "        return\n",
        "    c = float(argv[1])\n",
        "    print(((9 * c) / 5) + 32)\n",
        "\n",
        "c2f_cmd([\"c2f_batch.py\", \"32\"])\n"
      ],
      "metadata": {
        "colab": {
          "base_uri": "https://localhost:8080/"
        },
        "id": "KEH5jXHYnm8K",
        "outputId": "8ed04e7c-2334-462f-c91c-3a9d6049523d"
      },
      "execution_count": null,
      "outputs": [
        {
          "output_type": "stream",
          "name": "stdout",
          "text": [
            "89.6\n"
          ]
        }
      ]
    },
    {
      "cell_type": "markdown",
      "source": [
        "# **Chapter 4 Exercises**"
      ],
      "metadata": {
        "id": "Ul6vY0uYpBWX"
      }
    },
    {
      "cell_type": "markdown",
      "source": [
        "Exercise 4-1 (c2f_loop.py)\n",
        "Redo c2f.py to repeatedly prompt the user for a Celsius temperature to convert to Fahrenheit and then\n",
        "print. If the user just presses Return, go back to the top of the loop. Quit when the user enters \"q\".\n",
        "TIP Read in the temperature, test for \"q\" or \"\", and only then convert the temperature to a\n",
        "float."
      ],
      "metadata": {
        "id": "l3GnWvdYpGNP"
      }
    },
    {
      "cell_type": "code",
      "source": [
        "while True:\n",
        "    temp = input(\"Enter temperature in Celsius: \")\n",
        "    if temp.lower() == 'q':\n",
        "        print(\"Exiting the converter.\")\n",
        "        break\n",
        "    elif temp == '':\n",
        "        continue\n",
        "    celsius = float(temp)\n",
        "    fahrenheit = ((9 * celsius) / 5) + 32\n",
        "    print(f\"{celsius} Celsius is equal to {fahrenheit} Fahrenheit.\")"
      ],
      "metadata": {
        "colab": {
          "base_uri": "https://localhost:8080/"
        },
        "id": "v0oawFJIpJez",
        "outputId": "4470aa72-5505-49c2-9269-5de10b192d82"
      },
      "execution_count": null,
      "outputs": [
        {
          "output_type": "stream",
          "name": "stdout",
          "text": [
            "Enter temperature in Celsius: 100\n",
            "100.0 Celsius is equal to 212.0 Fahrenheit.\n",
            "Enter temperature in Celsius: 32\n",
            "32.0 Celsius is equal to 89.6 Fahrenheit.\n",
            "Enter temperature in Celsius: -40\n",
            "-40.0 Celsius is equal to -40.0 Fahrenheit.\n",
            "Enter temperature in Celsius: q\n",
            "Exiting the converter.\n"
          ]
        }
      ]
    },
    {
      "cell_type": "markdown",
      "source": [
        "Exercise 4-2 (guess.py)\n",
        "Write a guessing game program. You will think of a number from 1 to 25, and the computer will guess\n",
        "until it figures out the number. Each time, the computer will ask \"Is this your number? \"; You will enter\n",
        "\"l\" for too low, \"h\" for too high, or \"y\" when the computer has got it. Print appropriate prompts and\n",
        "responses.\n",
        "TIP\n",
        "1. Start with max_val = 26 and min_val = 0\n",
        "2. guess is always (max_val + min_val)//2 Note integer division operator\n",
        "3. If current guess is too high, next guess should be halfway between lowest and current\n",
        "guess, and we know that the number is less than guess, so set max_val = guess\n",
        "4. If current guess is too low, next guess should be halfway between current and\n",
        "maximum, and we know that the number is more than guess, so set min_val = guess\n",
        "TIP If you need more help, see next page for pseudocode. When you get it working for 1 to 25,\n",
        "try it for 1 to 1,000,000. (Set max_value to 1000001).\n",
        "Bonus Exercise (guessx.py)\n",
        "Get the maximum number from the command line or prompt the user to input the maximum, or both\n",
        "(if no value on command lines then prompt)\n",
        "\n",
        "Pseudocode for guess.py\n",
        "MAXVAL=26\n",
        "MINVAL=0\n",
        "while TRUE\n",
        "GUESS = int((MAXVAL + MINVAL)//2)\n",
        "prompt \"Is your guess GUESS? \"\n",
        "read ANSWER\n",
        "if ANSWER is \"y\"\n",
        "PRINT \"I got it!\"\n",
        "EXIT LOOP\n",
        "if ANSWER is \"h\"\n",
        "MAXVAL=GUESS\n",
        "if ANSWER is \"l\"\n",
        "MINVAL=GUESS"
      ],
      "metadata": {
        "id": "HFVZScdLrOfk"
      }
    },
    {
      "cell_type": "code",
      "source": [
        "max_val = 26\n",
        "min_val = 0\n",
        "\n",
        "while True:\n",
        "    guess = (max_val + min_val) // 2\n",
        "    answer = input(f\"Is this your number? {guess} (enter 'l' for too low, 'h' for too high, 'y' for yes): \")\n",
        "\n",
        "    if answer.lower() == 'y':\n",
        "        print(\"I got it!\")\n",
        "        break\n",
        "    elif answer.lower() == 'h':\n",
        "        max_val = guess\n",
        "    elif answer.lower() == 'l':\n",
        "        min_val = guess\n",
        "    else:\n",
        "        print(\"Please enter 'l', 'h', or 'y'.\")\n"
      ],
      "metadata": {
        "colab": {
          "base_uri": "https://localhost:8080/"
        },
        "id": "Tg5VBv_lq8mS",
        "outputId": "9609f35a-c8dc-4f85-ef24-68ca20ae0ef1"
      },
      "execution_count": null,
      "outputs": [
        {
          "output_type": "stream",
          "name": "stdout",
          "text": [
            "Is this your number? 13 (enter 'l' for too low, 'h' for too high, 'y' for yes): h\n",
            "Is this your number? 6 (enter 'l' for too low, 'h' for too high, 'y' for yes): l\n",
            "Is this your number? 9 (enter 'l' for too low, 'h' for too high, 'y' for yes): h\n",
            "Is this your number? 7 (enter 'l' for too low, 'h' for too high, 'y' for yes): y\n",
            "I got it!\n"
          ]
        }
      ]
    },
    {
      "cell_type": "markdown",
      "source": [
        "# **Chapter 5 Exercises**"
      ],
      "metadata": {
        "id": "duaAsHJwreG_"
      }
    },
    {
      "cell_type": "markdown",
      "source": [
        "Exercise 5-1 (pow2.py)\n",
        "Print out all the powers of 2 from 0 through 31.\n",
        "Use the ** operator, which raises a number to a power.\n"
      ],
      "metadata": {
        "id": "tY587vxbrhz4"
      }
    },
    {
      "cell_type": "code",
      "source": [
        "for i in range(0, 32):\n",
        "    print(f\"2^{i} = {2**i}\")"
      ],
      "metadata": {
        "colab": {
          "base_uri": "https://localhost:8080/"
        },
        "id": "tX8so1sCs71r",
        "outputId": "0e15f750-1d6c-4e12-9648-f7f544652d38"
      },
      "execution_count": null,
      "outputs": [
        {
          "output_type": "stream",
          "name": "stdout",
          "text": [
            "2^0 = 1\n",
            "2^1 = 2\n",
            "2^2 = 4\n",
            "2^3 = 8\n",
            "2^4 = 16\n",
            "2^5 = 32\n",
            "2^6 = 64\n",
            "2^7 = 128\n",
            "2^8 = 256\n",
            "2^9 = 512\n",
            "2^10 = 1024\n",
            "2^11 = 2048\n",
            "2^12 = 4096\n",
            "2^13 = 8192\n",
            "2^14 = 16384\n",
            "2^15 = 32768\n",
            "2^16 = 65536\n",
            "2^17 = 131072\n",
            "2^18 = 262144\n",
            "2^19 = 524288\n",
            "2^20 = 1048576\n",
            "2^21 = 2097152\n",
            "2^22 = 4194304\n",
            "2^23 = 8388608\n",
            "2^24 = 16777216\n",
            "2^25 = 33554432\n",
            "2^26 = 67108864\n",
            "2^27 = 134217728\n",
            "2^28 = 268435456\n",
            "2^29 = 536870912\n",
            "2^30 = 1073741824\n",
            "2^31 = 2147483648\n"
          ]
        }
      ]
    },
    {
      "cell_type": "markdown",
      "source": [
        "Exercise 5-2 (sequences.py)\n",
        "ctemps is a list of Celsius temperatures. Loop through ctemps, convert each temperature to Fahrenheit,\n",
        "and print out both temperatures"
      ],
      "metadata": {
        "id": "MafntEZMtWNU"
      }
    },
    {
      "cell_type": "code",
      "source": [
        "file_path = \"/content/sequences.txt\"\n",
        "ctemps = []\n",
        "current_list = None\n",
        "\n",
        "with open(file_path, 'r') as f:\n",
        "    for line in f:\n",
        "        line = line.strip()\n",
        "        if line == '':\n",
        "            continue\n",
        "        if line.startswith('# ctemps'):\n",
        "            current_list = 'ctemps'\n",
        "            continue\n",
        "        elif line.startswith('# fruits'):\n",
        "            current_list = None\n",
        "            continue\n",
        "        if current_list == 'ctemps':\n",
        "            ctemps.append(int(line))\n",
        "\n",
        "print(\"Celsius to Fahrenheit:\")\n",
        "for c in ctemps:\n",
        "    f_temp = ((9 * c) / 5) + 32\n",
        "    print(f\"{c} Celsius = {f_temp} Fahrenheit\")\n"
      ],
      "metadata": {
        "colab": {
          "base_uri": "https://localhost:8080/"
        },
        "id": "8ONCVWGrukHh",
        "outputId": "3cc8591a-f060-4601-80b2-f2fc17372884"
      },
      "execution_count": null,
      "outputs": [
        {
          "output_type": "stream",
          "name": "stdout",
          "text": [
            "Celsius to Fahrenheit:\n",
            "0 Celsius = 32.0 Fahrenheit\n",
            "20 Celsius = 68.0 Fahrenheit\n",
            "37 Celsius = 98.6 Fahrenheit\n",
            "100 Celsius = 212.0 Fahrenheit\n",
            "-40 Celsius = -40.0 Fahrenheit\n"
          ]
        }
      ]
    },
    {
      "cell_type": "markdown",
      "source": [
        "Exercise 5-3 (sequences.py)\n",
        "Use a list comprehension to copy the list fruits to a new list named clean_fruits, with all fruits in\n",
        "lower case and leading/trailing white space removed. Print out the new list.\n",
        "HINT: Use chained methods (x.spam().ham())"
      ],
      "metadata": {
        "id": "YixOaNTVvToq"
      }
    },
    {
      "cell_type": "code",
      "source": [
        "file_path = \"/content/sequences.txt\"\n",
        "fruits = []\n",
        "current_list = None\n",
        "\n",
        "with open(file_path, 'r') as f:\n",
        "    for line in f:\n",
        "        line = line.strip()\n",
        "        if line == '':\n",
        "            continue\n",
        "        if line.startswith('# fruits'):\n",
        "            current_list = 'fruits'\n",
        "            continue\n",
        "        elif line.startswith('# ctemps'):\n",
        "            current_list = None\n",
        "            continue\n",
        "        if current_list == 'fruits':\n",
        "            fruits.append(line)\n",
        "\n",
        "clean_fruits = [x.strip().lower() for x in fruits]\n",
        "print(clean_fruits)\n"
      ],
      "metadata": {
        "colab": {
          "base_uri": "https://localhost:8080/"
        },
        "id": "fWe9zCPVy-lm",
        "outputId": "bb07e80d-9d74-462a-bb05-261df570b765"
      },
      "execution_count": null,
      "outputs": [
        {
          "output_type": "stream",
          "name": "stdout",
          "text": [
            "['pomegranate', 'cherry', 'apricot', 'date', 'apple', 'lemon', 'kiwi']\n"
          ]
        }
      ]
    },
    {
      "cell_type": "markdown",
      "source": [
        "Exercise 5-4 (sieve.py)\n",
        "FOR ADVANCED STUDENTS\n",
        "The \"Sieve of Eratosthenes\" is an ancient algorithm for finding prime numbers. It works by starting at\n",
        "2 and checking each number up to a specified limit. If the number has been marked as non-prime, it is\n",
        "skipped. Otherwise, it is prime, so it is output, and all its multiples are marked as non-prime.\n",
        "Write a program to implement this algorithm. Specify the limit (the highest number to check) on the\n",
        "script’s command line. Supply a default if no limit is specified.\n",
        "Initialize a list (maybe named is_prime) to the size of the limit plus one (use * to multiply a single-item\n",
        "list). All elements should be set to True.\n",
        "Use two nested loops.\n",
        "The outer loop will check each value (element of the array) from 2 to the upper limit. (use the range())\n",
        "function.\n",
        "If the element has a True value (is prime), print out its value. Then, execute a second loop iterates\n",
        "through all the multiples of the number, and marks them as False (i.e., non-prime).\n",
        "No action is needed if the value is False. This will skip the non-prime numbers.\n",
        "TIP Use range() to generate the multiples of the current number.\n",
        "NOTE In this exercise, the value of the element is either True or False — the index is the\n",
        "number be checked for primeness.\n",
        "See next page for the pseudocode for this program:\n",
        "\n",
        "Pseudocode for sieve.py\n",
        "if # command line args == 1\n",
        "get LIMIT from command line\n",
        "else\n",
        "set LIMIT to 50\n",
        "Initialize IS_PRIMES list to size LIMIT+1, with all TRUE values\n",
        "for NUM from 2 to LIMIT+1\n",
        "if IS_PRIME[NUM]\n",
        "output NUM\n",
        "for M from NUM to LIMIT+1, counting by NUM\n",
        "IS_PRIME[M] = FALSE"
      ],
      "metadata": {
        "id": "lp9KeLCh0W5p"
      }
    },
    {
      "cell_type": "code",
      "source": [
        "import sys\n",
        "\n",
        "if len(sys.argv) > 1 and sys.argv[1].isdigit():\n",
        "    limit = int(sys.argv[20])\n",
        "else:\n",
        "    limit = 50\n",
        "\n",
        "is_prime = [True] * (limit + 1)\n",
        "\n",
        "for n in range(2, limit + 1):\n",
        "    if is_prime[n]:\n",
        "        print(n)\n",
        "        for m in range(n * 2, limit + 1, n):\n",
        "            is_prime[m] = False\n"
      ],
      "metadata": {
        "colab": {
          "base_uri": "https://localhost:8080/"
        },
        "id": "2Rolzp7U7iea",
        "outputId": "915214f0-7654-4c66-9964-de0ea459e4a8"
      },
      "execution_count": null,
      "outputs": [
        {
          "output_type": "stream",
          "name": "stdout",
          "text": [
            "2\n",
            "3\n",
            "5\n",
            "7\n",
            "11\n",
            "13\n",
            "17\n",
            "19\n",
            "23\n",
            "29\n",
            "31\n",
            "37\n",
            "41\n",
            "43\n",
            "47\n"
          ]
        }
      ]
    },
    {
      "cell_type": "markdown",
      "source": [
        "# **Chapter 6 Exercises**"
      ],
      "metadata": {
        "id": "54MCTEWqMeFZ"
      }
    },
    {
      "cell_type": "markdown",
      "source": [
        "Exercise 6-1 (line_no.py)\n",
        "Write a program to display each line of a file preceded by the line number. Allow your program to process one or more files specified on the command line. Be sure to reset the line number for each file.\n",
        "TIP Use enumerate().\n",
        "Test with the following commands:\n",
        "python line_no.py DATA/tyger.txt\n",
        "python line_no.py DATA/parrot.txt DATA/tyger.txt\n",
        "Test with other files, as desired"
      ],
      "metadata": {
        "id": "XBh8o2X0MjIb"
      }
    },
    {
      "cell_type": "code",
      "source": [
        "file_paths = [\n",
        "    \"/content/alt.txt\",\n",
        "    \"/content/bob.txt\"\n",
        "]\n",
        "\n",
        "for filename in file_paths:\n",
        "    print(f\"\\nProcessing file: {filename}\")\n",
        "    with open(filename, 'r') as file:\n",
        "        for lineno, line in enumerate(file, start=0):\n",
        "            print(f\"{lineno}: {line.rstrip()}\")"
      ],
      "metadata": {
        "id": "2b-C9fbROYbA",
        "colab": {
          "base_uri": "https://localhost:8080/"
        },
        "outputId": "c8ba792d-4d9f-4ef6-ac89-7b052d3831a7"
      },
      "execution_count": null,
      "outputs": [
        {
          "output_type": "stream",
          "name": "stdout",
          "text": [
            "\n",
            "Processing file: /content/alt.txt\n",
            "0: apple is red\n",
            "1: banana is yellow\n",
            "2: ant is small\n",
            "3: bat is flying\n",
            "4: alligator lives in water\n",
            "5: ball is round\n",
            "\n",
            "Processing file: /content/bob.txt\n",
            "0: Alice followed the rabbit down the hole and found herself falling.\n",
            "1: She tried to remember how many miles down she had fallen.\n",
            "2: Down, down, down. Would the fall never come to an end?\n",
            "3: Alice began to think she must be getting very far underground.\n",
            "4: Suddenly, thump! Down she came upon a heap of sticks and dry leaves.\n",
            "5: The fall was over at last, and she looked around in wonder.\n",
            "6: Before her was a long, low hall, lit up by a row of lamps hanging from the roof.\n"
          ]
        }
      ]
    },
    {
      "cell_type": "markdown",
      "source": [
        "Exercise 6-2 (alt_lines.py)\n",
        "Write a program to create two files, a.txt and b.txt from the file alt.txt. Lines that start with 'a' go in\n",
        "a.txt; the other lines (which all start with 'b') go in b.txt. Compare the original to the two new files."
      ],
      "metadata": {
        "id": "gSoQ7qawM1nC"
      }
    },
    {
      "cell_type": "code",
      "source": [
        "file_path = \"/content/alt.txt\"\n",
        "file_path1 = \"/content/a.txt\"\n",
        "file_path2 = \"/content/b.txt\"\n",
        "with open(file_path, 'r') as infile:\n",
        "    with open(file_path1, 'w') as a_file, open(file_path2, 'w') as b_file:\n",
        "        for line in infile:\n",
        "            line = line.strip()\n",
        "            if line.startswith('a') or line.startswith('A'):\n",
        "                a_file.write(line + '\\n')\n",
        "            elif line.startswith('b') or line.startswith('B'):\n",
        "                b_file.write(line + '\\n')\n",
        "\n",
        "print(\"Contents of alt.txt:\")\n",
        "with open(file_path, 'r') as file:\n",
        "    print(file.read())\n",
        "\n",
        "print(\"\\nContents of a.txt:\")\n",
        "with open(file_path1, 'r') as file:\n",
        "    print(file.read())\n",
        "\n",
        "print(\"\\nContents of b.txt:\")\n",
        "with open(file_path2, 'r') as file:\n",
        "    print(file.read())\n"
      ],
      "metadata": {
        "id": "yUGjHerAOZLp",
        "colab": {
          "base_uri": "https://localhost:8080/"
        },
        "outputId": "5b6a3447-e9c6-43f9-9164-d15706bacc3a"
      },
      "execution_count": null,
      "outputs": [
        {
          "output_type": "stream",
          "name": "stdout",
          "text": [
            "Contents of alt.txt:\n",
            "apple is red\n",
            "banana is yellow\n",
            "ant is small\n",
            "bat is flying\n",
            "alligator lives in water\n",
            "ball is round\n",
            "\n",
            "\n",
            "Contents of a.txt:\n",
            "apple is red\n",
            "ant is small\n",
            "alligator lives in water\n",
            "\n",
            "\n",
            "Contents of b.txt:\n",
            "banana is yellow\n",
            "bat is flying\n",
            "ball is round\n",
            "\n"
          ]
        }
      ]
    },
    {
      "cell_type": "markdown",
      "source": [
        "Exercise 6-3 (count_alice.py, count_words.py)\n",
        "A. Write a program to count how many lines of alice.txt contain the word \"Alice\". (There should be\n",
        "392).\n",
        "TIP Use the in operator to test whether a line contains the word \"Alice\"\n"
      ],
      "metadata": {
        "id": "oLx_m_TSM6ry"
      }
    },
    {
      "cell_type": "code",
      "source": [
        "file_path = \"/content/alice.txt\"\n",
        "with open(file_path, 'r') as file:\n",
        "    count = 0\n",
        "    for line in file:\n",
        "        if 'Alice' in line:\n",
        "            count += 1\n",
        "\n",
        "print(f'The word \"Alice\" appears in {count} lines.')"
      ],
      "metadata": {
        "id": "iTTGuIw6OaPw",
        "colab": {
          "base_uri": "https://localhost:8080/"
        },
        "outputId": "415dbde8-6110-4209-ba68-41ccd25b180d"
      },
      "execution_count": null,
      "outputs": [
        {
          "output_type": "stream",
          "name": "stdout",
          "text": [
            "The word \"Alice\" appears in 3 lines.\n"
          ]
        }
      ]
    },
    {
      "cell_type": "markdown",
      "source": [
        "B. Modify count_alice.py to take the first command line parameter as a word to find, and the\n",
        "remaining parameters as filenames. For each file, print out the file name and the number of lines\n",
        "that contain the specified word. Test thoroughly\n",
        "FOR ADVANCED STUDENTS (icount_words.py) Modify count_words.py to make the search case-\n",
        "insensitive"
      ],
      "metadata": {
        "id": "NLipa2qlo3WI"
      }
    },
    {
      "cell_type": "code",
      "source": [
        "search_word = input(\"Enter the word to search for: \").strip().lower()\n",
        "\n",
        "file_paths = [\n",
        "    \"/content/alice.txt\",\n",
        "    \"/content/bob.txt\"\n",
        "]\n",
        "\n",
        "for filename in file_paths:\n",
        "    with open(filename, 'r') as file:\n",
        "        count = 0\n",
        "        for line in file:\n",
        "            if search_word in line.lower():\n",
        "                count += 1\n",
        "    print(f\"{filename}: {count} lines contain the word '{search_word}'\")"
      ],
      "metadata": {
        "colab": {
          "base_uri": "https://localhost:8080/"
        },
        "id": "uG3_wzFdp41N",
        "outputId": "069bbee8-7d24-487a-d82a-777e2fe09e17"
      },
      "execution_count": null,
      "outputs": [
        {
          "output_type": "stream",
          "name": "stdout",
          "text": [
            "Enter the word to search for: alice\n",
            "/content/alice.txt: 3 lines contain the word 'alice'\n",
            "/content/bob.txt: 2 lines contain the word 'alice'\n"
          ]
        }
      ]
    },
    {
      "cell_type": "markdown",
      "source": [
        "# **Chapter 7 Exercises**"
      ],
      "metadata": {
        "id": "qfmq5TjQM_v_"
      }
    },
    {
      "cell_type": "markdown",
      "source": [
        "Exercise 7-1 (file_date.py)\n",
        "Write a script which accepts one or more filenames on the command line, and prints out each file\n",
        "name with its date of last modification in the format 'Mar 12, 2013'.\n"
      ],
      "metadata": {
        "id": "ZHwrUHUrNE15"
      }
    },
    {
      "cell_type": "code",
      "source": [
        "import os\n",
        "from datetime import datetime\n",
        "\n",
        "file_paths = [\n",
        "    \"/content/alice.txt\",\n",
        "    \"/content/fruit2.txt\",\n",
        "    \"/content/sample_data\"\n",
        "]\n",
        "\n",
        "for filename in file_paths:\n",
        "    mod_time = os.path.getmtime(filename)\n",
        "    dt = datetime.fromtimestamp(mod_time)\n",
        "    formatted_date = dt.strftime('%b %d, %Y')\n",
        "    print(f\"{filename}: {formatted_date}\")\n"
      ],
      "metadata": {
        "colab": {
          "base_uri": "https://localhost:8080/"
        },
        "id": "Kz2qL0B-xk7P",
        "outputId": "f3ec69c9-9cec-4481-ff46-36b3fa6f85f8"
      },
      "execution_count": null,
      "outputs": [
        {
          "output_type": "stream",
          "name": "stdout",
          "text": [
            "/content/alice.txt: Oct 25, 2025\n",
            "/content/fruit2.txt: Oct 25, 2025\n",
            "/content/sample_data: Oct 23, 2025\n"
          ]
        }
      ]
    },
    {
      "cell_type": "markdown",
      "source": [
        "Exercise 7-2 (get_file_size.py)\n",
        "Write a script that accepts one or more files on the command line, and prints out the size, one file per\n",
        "line. If any argument is a directory, print out a warning message.\n"
      ],
      "metadata": {
        "id": "ciV3zzX2NL5s"
      }
    },
    {
      "cell_type": "code",
      "source": [
        "import os\n",
        "\n",
        "file_paths = [\n",
        "    \"/content/alice.txt\",\n",
        "    \"/content/alt.txt\",\n",
        "    \"/bin\"\n",
        "]\n",
        "\n",
        "for filename in file_paths:\n",
        "    if os.path.isdir(filename):\n",
        "        print(f\"Warning: {filename} is a directory\")\n",
        "    elif os.path.isfile(filename):\n",
        "        size = os.path.getsize(filename)\n",
        "        print(f\"{filename}: {size} bytes\")\n",
        "    else:\n",
        "        print(f\"Error: {filename} not found\")\n"
      ],
      "metadata": {
        "id": "eAn0PDKrObqX",
        "colab": {
          "base_uri": "https://localhost:8080/"
        },
        "outputId": "3e95bb36-d21a-460f-c6b0-391722d4332f"
      },
      "execution_count": null,
      "outputs": [
        {
          "output_type": "stream",
          "name": "stdout",
          "text": [
            "/content/alice.txt: 1002 bytes\n",
            "/content/alt.txt: 102 bytes\n",
            "Warning: /bin is a directory\n"
          ]
        }
      ]
    },
    {
      "cell_type": "markdown",
      "source": [
        "Exercise 7-3 (for_usage.py)\n",
        "Write a script to count how many times a for loop is used in all .py files under py3intro (the top folder\n",
        "of the student files).\n",
        "\n"
      ],
      "metadata": {
        "id": "lJC2A657NR-6"
      }
    },
    {
      "cell_type": "code",
      "source": [
        "import os\n",
        "\n",
        "base_dir = '/content/sample_data/Fiserv'\n",
        "\n",
        "total_for_count = 0\n",
        "\n",
        "for root, dirs, files in os.walk(base_dir):\n",
        "    for file in files:\n",
        "        if file.endswith('.py'):\n",
        "            file_path = os.path.join(root, file)\n",
        "            file_for_count = 0\n",
        "            with open(file_path, 'r') as f:\n",
        "                for line in f:\n",
        "                    line_strip = line.strip()\n",
        "                    if line_strip.startswith('for '):\n",
        "                        file_for_count += 1\n",
        "                        total_for_count += 1\n",
        "            print(f\"{file_path}: {file_for_count} 'for' loops\")\n",
        "\n",
        "print(f\"\\nTotal 'for' loops found: {total_for_count}\")\n"
      ],
      "metadata": {
        "id": "HFxZpEEDzvpl",
        "colab": {
          "base_uri": "https://localhost:8080/"
        },
        "outputId": "463adf5c-b9ea-4c5c-e540-7e64027e3439"
      },
      "execution_count": null,
      "outputs": [
        {
          "output_type": "stream",
          "name": "stdout",
          "text": [
            "/content/sample_data/Fiserv/File1.py: 1 'for' loops\n",
            "/content/sample_data/Fiserv/File2.py: 2 'for' loops\n",
            "/content/sample_data/Fiserv/File3.py: 1 'for' loops\n",
            "\n",
            "Total 'for' loops found: 4\n"
          ]
        }
      ]
    },
    {
      "cell_type": "markdown",
      "source": [
        "Exercise 7-4 (copy_pfiles.py)\n",
        "Write a script to copy all files that start with 'p' from the DATA folder into the TEMP folder.\n",
        "TIP use shutil\n",
        "\n"
      ],
      "metadata": {
        "id": "oH5KCNI6NVH_"
      }
    },
    {
      "cell_type": "code",
      "source": [
        "import os\n",
        "import shutil\n",
        "\n",
        "source_dir = '/content/sample_data/Fiserv'\n",
        "dest_dir = '/content/TEMP'\n",
        "\n",
        "os.makedirs(dest_dir, exist_ok=True)\n",
        "\n",
        "for filename in os.listdir(source_dir):\n",
        "    src_file = os.path.join(source_dir, filename)\n",
        "    dst_file = os.path.join(dest_dir, filename)\n",
        "    if os.path.isfile(src_file) and filename.lower().startswith('p'):\n",
        "        shutil.copy2(src_file, dst_file)\n",
        "        print(f\"Copied {filename} to TEMP\")"
      ],
      "metadata": {
        "colab": {
          "base_uri": "https://localhost:8080/"
        },
        "id": "Y29bpc9H4BEJ",
        "outputId": "5a091811-f878-449b-fa19-112f36af2407"
      },
      "execution_count": null,
      "outputs": [
        {
          "output_type": "stream",
          "name": "stdout",
          "text": [
            "Copied Page1 to TEMP\n",
            "Copied Page2 to TEMP\n"
          ]
        }
      ]
    },
    {
      "cell_type": "markdown",
      "source": [
        "# **Chapter 8 Exercises**"
      ],
      "metadata": {
        "id": "kawd1saTNYdM"
      }
    },
    {
      "cell_type": "markdown",
      "source": [
        "Exercise 8-1 (scores.py)\n",
        "A class of students has taken a test. Their scores have been stored in testscores.dat. Write a program\n",
        "named scores.py to read in the data (read it into a dictionary where the keys are the student names\n",
        "and the values are the test scores). Print out the student names, one per line, sorted, and with the\n",
        "numeric score and letter grade. After printing all the scores, print the average score.\n",
        "TIP Be sure to convert the numeric score to an integer when storing it in the dictionary.\n",
        "Table 20. Grading Scale\n",
        "95-100 A\n",
        "89-94 B\n",
        "83-88 C\n",
        "75-82 D\n",
        "< 75 F\n"
      ],
      "metadata": {
        "id": "2o321WfXNgzV"
      }
    },
    {
      "cell_type": "code",
      "source": [
        "def get_grade(score):\n",
        "    if score >= 95:\n",
        "        return 'A'\n",
        "    elif score >= 89:\n",
        "        return 'B'\n",
        "    elif score >= 83:\n",
        "        return 'C'\n",
        "    elif score >= 75:\n",
        "        return 'D'\n",
        "    else:\n",
        "        return 'F'\n",
        "\n",
        "scores = {}\n",
        "\n",
        "file_path = \"/content/testscores.dat.txt\"\n",
        "with open(file_path, 'r') as f:\n",
        "    for line in f:\n",
        "        parts = line.strip().split()\n",
        "        if len(parts) == 2:\n",
        "            name, score = parts\n",
        "            scores[name] = int(score)\n",
        "\n",
        "print(\"Name\\tScore\\tGrade\")\n",
        "for name in sorted(scores.keys()):\n",
        "    score = scores[name]\n",
        "    grade = get_grade(score)\n",
        "    print(f\"{name}\\t{score}\\t{grade}\")\n",
        "\n",
        "avg_score = sum(scores.values()) / len(scores)\n",
        "print(f\"\\nAverage Score: {avg_score:.2f}\")\n"
      ],
      "metadata": {
        "colab": {
          "base_uri": "https://localhost:8080/"
        },
        "id": "N1wv0W1TOdg1",
        "outputId": "640aa364-76f9-4110-b4b9-3f4124471433"
      },
      "execution_count": null,
      "outputs": [
        {
          "output_type": "stream",
          "name": "stdout",
          "text": [
            "Name\tScore\tGrade\n",
            "Akash\t81\tD\n",
            "Grace\t100\tA\n",
            "Ivan\t94\tB\n",
            "Judy\t73\tF\n",
            "Pooja\t88\tC\n",
            "Shelf\t65\tF\n",
            "Sriraj\t76\tD\n",
            "Steni\t92\tB\n",
            "Vani\t89\tB\n",
            "Venky\t97\tA\n",
            "\n",
            "Average Score: 85.50\n"
          ]
        }
      ]
    },
    {
      "cell_type": "markdown",
      "source": [
        "Exercise 8-2 (shell_users.py)\n",
        "Using the file named passwd, write a program to count the number of users using each shell. To do\n",
        "this, read passwd one line at a time. Split each line into its seven (colon-delimited) fields. The shell is\n",
        "the last field. For each entry, add one to the dictionary element whose key is the shell.\n",
        "When finished reading the password file, loop through the keys of the dictionary, printing out the shell\n",
        "and the count.\n"
      ],
      "metadata": {
        "id": "KBrFYuA3NmXs"
      }
    },
    {
      "cell_type": "code",
      "source": [
        "file_path = \"/content/passwd.txt\"\n",
        "shell_count = {}\n",
        "with open(file_path, 'r') as file:\n",
        "    for line in file:\n",
        "        line = line.strip()\n",
        "        if not line or line.startswith('#'):\n",
        "            continue\n",
        "        fields = line.split(':')\n",
        "        if len(fields) < 7:\n",
        "            continue\n",
        "        shell = fields[-1]\n",
        "        shell_count[shell] = shell_count.get(shell, 0) + 1\n",
        "\n",
        "for shell, count in shell_count.items():\n",
        "    print(f\"{shell}: {count}\")\n"
      ],
      "metadata": {
        "id": "ZX-xZUl4Od-F",
        "colab": {
          "base_uri": "https://localhost:8080/"
        },
        "outputId": "87bed860-567c-4a57-be35-103f2aea5948"
      },
      "execution_count": null,
      "outputs": [
        {
          "output_type": "stream",
          "name": "stdout",
          "text": [
            "/bin/bash: 2\n",
            "/usr/sbin/nologin: 5\n",
            "/bin/sync: 1\n",
            "/bin/sh: 1\n"
          ]
        }
      ]
    },
    {
      "cell_type": "markdown",
      "source": [
        "Exercise 8-3 (common_fruit.py)\n",
        "Using sets, compute which fruits are in both fruit1.txt and fruit2.txt. To do this, read the files into sets\n",
        "(the files contain one fruit per line) and find the intersection of the sets.\n",
        "What if fruits are in both files, but one is capitalized and the other isn’t?\n"
      ],
      "metadata": {
        "id": "q1Bp8fvTNtFE"
      }
    },
    {
      "cell_type": "code",
      "source": [
        "def read_fruits(filename):\n",
        "    with open(filename, 'r') as f:\n",
        "        return set(line.strip().lower() for line in f)\n",
        "\n",
        "fruits1 = read_fruits('fruit1.txt')\n",
        "fruits2 = read_fruits('fruit2.txt')\n",
        "\n",
        "common_fruits = fruits1 & fruits2\n",
        "\n",
        "print(\"Fruits in both files:\")\n",
        "for fruit in sorted(common_fruits):\n",
        "    print(fruit)\n"
      ],
      "metadata": {
        "colab": {
          "base_uri": "https://localhost:8080/"
        },
        "id": "OQ0o0zRtOefM",
        "outputId": "b4682bf9-8d2c-4d71-ca9b-50533423916f"
      },
      "execution_count": null,
      "outputs": [
        {
          "output_type": "stream",
          "name": "stdout",
          "text": [
            "Fruits in both files:\n",
            "apple\n",
            "banana\n",
            "date\n"
          ]
        }
      ]
    },
    {
      "cell_type": "markdown",
      "source": [
        "Exercise 8-4 (set_sieve.py)\n",
        "FOR ADVANCED STUDENTS Rewrite sieve.py to use a set rather than a list to keep track of which\n",
        "numbers are non-prime. This turns out to be easier – you don’t have to initialize the set, as you did\n",
        "with the list\n"
      ],
      "metadata": {
        "id": "W4Glz9cdNw5g"
      }
    },
    {
      "cell_type": "code",
      "source": [
        "\n",
        "limit = 50\n",
        "non_primes = set()\n",
        "primes = []\n",
        "\n",
        "for num in range(2, limit + 1):\n",
        "    if num not in non_primes:\n",
        "        primes.append(num)\n",
        "        for multiple in range(num * 2, limit + 1, num):\n",
        "            non_primes.add(multiple)\n",
        "\n",
        "print(\"Primes up to\", limit, \":\")\n",
        "print(primes)"
      ],
      "metadata": {
        "colab": {
          "base_uri": "https://localhost:8080/"
        },
        "id": "79UC-bngOfGw",
        "outputId": "3c28a283-50fc-4a17-b4d2-64f178498bff"
      },
      "execution_count": null,
      "outputs": [
        {
          "output_type": "stream",
          "name": "stdout",
          "text": [
            "Primes up to 50 :\n",
            "[2, 3, 5, 7, 11, 13, 17, 19, 23, 29, 31, 37, 41, 43, 47]\n"
          ]
        }
      ]
    },
    {
      "cell_type": "markdown",
      "source": [
        "# **Chapter 9 Exercises**"
      ],
      "metadata": {
        "id": "XacKuY-YN0FE"
      }
    },
    {
      "cell_type": "markdown",
      "source": [
        "Exercise 9-1 (dirty_strings.py)\n",
        "Using the existing script dirty_strings.py, implement the function named cleanup(). This function\n",
        "accepts one string as input and returns a copy of the string with whitespace removed from the\n",
        "beginning and the end, and all upper case letters changed to lower case.\n",
        "The code to loop over a list of \"dirty\" strings and call the function is already in place. All you have to do\n",
        "is remove the pass statement and put your code in the cleanup() function."
      ],
      "metadata": {
        "id": "OcAkeOiDN5Jp"
      }
    },
    {
      "cell_type": "code",
      "source": [
        "def cleanup(s):\n",
        "    cleaned = s.strip().lower()\n",
        "    return cleaned\n",
        "\n",
        "dirty_list = [\" Apple \", \" BANANA\", \"  Cherry  \", \"MANGO  \", \"  Guava\"]\n",
        "\n",
        "print(\"Cleaned strings:\")\n",
        "for item in dirty_list:\n",
        "    result = cleanup(item)\n",
        "    print(result)"
      ],
      "metadata": {
        "colab": {
          "base_uri": "https://localhost:8080/"
        },
        "id": "domThVgLOfxY",
        "outputId": "1311e43f-9f72-478b-8601-045e749848e2"
      },
      "execution_count": null,
      "outputs": [
        {
          "output_type": "stream",
          "name": "stdout",
          "text": [
            "Cleaned strings:\n",
            "apple\n",
            "banana\n",
            "cherry\n",
            "mango\n",
            "guava\n"
          ]
        }
      ]
    },
    {
      "cell_type": "markdown",
      "source": [
        "Exercise 9-2 (c2f_func.py)\n",
        "Define a function named c2f() that takes one number as a parameter, and then returns the value\n",
        "converted from Celsius to Fahrenheit. Test your function by calling it with the values 100, 0, 37, and -40\n",
        "one at a time.\n",
        "Example\n",
        "f = c2f(100)\n",
        "print(f)\n",
        "f = c2f(-40)\n",
        "print(f)"
      ],
      "metadata": {
        "id": "Y63UqggrN8Gd"
      }
    },
    {
      "cell_type": "code",
      "source": [
        "def c2f(c):\n",
        "    return ((9 * c) / 5) + 32\n",
        "\n",
        "print(c2f(100))\n",
        "print(c2f(0))\n",
        "print(c2f(37))\n",
        "print(c2f(-40))"
      ],
      "metadata": {
        "colab": {
          "base_uri": "https://localhost:8080/"
        },
        "id": "OeHC15YNOgNq",
        "outputId": "9d33cb2f-3a70-44f4-9bba-a2ee1e21cb7e"
      },
      "execution_count": null,
      "outputs": [
        {
          "output_type": "stream",
          "name": "stdout",
          "text": [
            "212.0\n",
            "32.0\n",
            "98.6\n",
            "-40.0\n"
          ]
        }
      ]
    },
    {
      "cell_type": "markdown",
      "source": [
        "Exercise 9-3 (calc.py)\n",
        "Write a simple four-function calculator. Repeatedly prompt the user for a math expression, which\n",
        "should consist of a number, an operator, and another number, all separated by whitespace. The\n",
        "operator may be any of \"+\",\"-\", \"/\", or \"*\". For example, the user may enter \"9 + 5\", \"4 / 28\", or \"12 * 5\".\n",
        "Exit the program when the user enters \"Q\" or \"q\". (Hint: split the input into the 3 parts – first value,\n",
        "operator, second value).\n",
        "Write a function for each operator (named \"add\", \"subtract\", etc). As each line is read, pass the two\n",
        "numbers to the appropriate function, based on the operator, and get the result, which is then output to\n",
        "the screen. The division function should check to see whether the second number is zero, and if so,\n",
        "return an error message, rather than trying to actually do the math.\n",
        "NOTE Expect an expression like \"5 + 4\" which you can split on whitespace\n",
        "FOR ADVANCED STUDENTS\n",
        "Add more math operations; test the input to make sure it’s numeric (although in real life you\n",
        "should use a try block to validate numeric conversions)."
      ],
      "metadata": {
        "id": "DNaoasf5N_4W"
      }
    },
    {
      "cell_type": "code",
      "source": [
        "def add(a, b):\n",
        "    return a + b\n",
        "\n",
        "def subtract(a, b):\n",
        "    return a - b\n",
        "\n",
        "def multiply(a, b):\n",
        "    return a * b\n",
        "\n",
        "def divide(a, b):\n",
        "    if b == 0:\n",
        "        return \"Error: Division by zero\"\n",
        "    return a / b\n",
        "\n",
        "while True:\n",
        "    expr = input(\"Enter an expression (or 'q' to quit): \").strip()\n",
        "    if expr.lower() == 'q':\n",
        "        break\n",
        "\n",
        "    parts = expr.split()\n",
        "    if len(parts) != 3:\n",
        "        print(\"Invalid format. Use: number operator number\")\n",
        "        continue\n",
        "\n",
        "    a, op, b = parts\n",
        "\n",
        "    if not (a.replace('.', '', 1).isdigit() and b.replace('.', '', 1).isdigit()):\n",
        "        print(\"Please enter valid numbers.\")\n",
        "        continue\n",
        "\n",
        "    a = float(a)\n",
        "    b = float(b)\n",
        "\n",
        "    if op == '+':\n",
        "        result = add(a, b)\n",
        "    elif op == '-':\n",
        "        result = subtract(a, b)\n",
        "    elif op == '*':\n",
        "        result = multiply(a, b)\n",
        "    elif op == '/':\n",
        "        result = divide(a, b)\n",
        "    else:\n",
        "        result = \"Invalid operator. Use +, -, *, or /.\"\n",
        "\n",
        "    print(\"Result:\", result)\n"
      ],
      "metadata": {
        "colab": {
          "base_uri": "https://localhost:8080/"
        },
        "id": "gaH4DAIlOgoi",
        "outputId": "f1252f7b-2cde-4b41-bf47-c7e4c4a35d3a"
      },
      "execution_count": null,
      "outputs": [
        {
          "name": "stdout",
          "output_type": "stream",
          "text": [
            "Enter an expression (or 'q' to quit): 3\n",
            "Invalid format. Use: number operator number\n",
            "Enter an expression (or 'q' to quit): 3+7\n",
            "Invalid format. Use: number operator number\n",
            "Enter an expression (or 'q' to quit): 3 /1\n",
            "Invalid format. Use: number operator number\n",
            "Enter an expression (or 'q' to quit): 3 + 7\n",
            "Result: 10.0\n",
            "Enter an expression (or 'q' to quit): 3 -8\n",
            "Invalid format. Use: number operator number\n",
            "Enter an expression (or 'q' to quit): q\n"
          ]
        }
      ]
    }
  ]
}